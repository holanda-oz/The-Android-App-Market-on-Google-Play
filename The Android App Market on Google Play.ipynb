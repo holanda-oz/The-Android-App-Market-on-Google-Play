{
 "cells": [
  {
   "cell_type": "code",
   "execution_count": 2,
   "id": "214c23f9-8a24-4609-836c-8e94e89917f6",
   "metadata": {
    "collapsed": true,
    "dc": {
     "key": "4"
    },
    "jupyter": {
     "outputs_hidden": true
    },
    "tags": [
     "sample_code"
    ]
   },
   "outputs": [],
   "source": [
    "# Use this cell to begin your analysis, and add as many as you would like!\n",
    "import pandas as pd\n",
    "import numpy as np"
   ]
  },
  {
   "cell_type": "code",
   "execution_count": 3,
   "id": "16c04413-eaa2-409c-823c-f3457438cf5c",
   "metadata": {
    "collapsed": true,
    "dc": {
     "key": "4"
    },
    "jupyter": {
     "outputs_hidden": true
    }
   },
   "outputs": [],
   "source": [
    "# Read the csv_file\n",
    "apps = pd.read_csv(\"datasets/apps.csv\")"
   ]
  },
  {
   "cell_type": "code",
   "execution_count": 4,
   "id": "1c879313-f562-4fdb-bbb2-4c4341ba5760",
   "metadata": {
    "dc": {
     "key": "4"
    },
    "outputsMetadata": {
     "0": {
      "height": 271,
      "type": "stream"
     }
    }
   },
   "outputs": [
    {
     "name": "stdout",
     "output_type": "stream",
     "text": [
      "                                                 App        Category  Rating  \\\n",
      "0     Photo Editor & Candy Camera & Grid & ScrapBook  ART_AND_DESIGN     4.1   \n",
      "1                                Coloring book moana  ART_AND_DESIGN     3.9   \n",
      "2  U Launcher Lite – FREE Live Cool Themes, Hide ...  ART_AND_DESIGN     4.7   \n",
      "3                              Sketch - Draw & Paint  ART_AND_DESIGN     4.5   \n",
      "4              Pixel Draw - Number Art Coloring Book  ART_AND_DESIGN     4.3   \n",
      "\n",
      "   Reviews  Size     Installs  Type  Price      Last Updated  \n",
      "0      159  19.0      10,000+  Free    0.0   January 7, 2018  \n",
      "1      967  14.0     500,000+  Free    0.0  January 15, 2018  \n",
      "2    87510   8.7   5,000,000+  Free    0.0    August 1, 2018  \n",
      "3   215644  25.0  50,000,000+  Free    0.0      June 8, 2018  \n",
      "4      967   2.8     100,000+  Free    0.0     June 20, 2018  \n"
     ]
    }
   ],
   "source": [
    "print(apps.head())"
   ]
  },
  {
   "cell_type": "code",
   "execution_count": 5,
   "id": "e237028a-e403-4b73-b41d-5ad7ce6ea9e6",
   "metadata": {
    "dc": {
     "key": "4"
    },
    "outputsMetadata": {
     "0": {
      "height": 37,
      "type": "stream"
     }
    }
   },
   "outputs": [
    {
     "name": "stdout",
     "output_type": "stream",
     "text": [
      "object\n"
     ]
    }
   ],
   "source": [
    "#Check data type\n",
    "print(apps['Installs'].dtype)"
   ]
  },
  {
   "cell_type": "code",
   "execution_count": 6,
   "id": "34913efa-f5b4-4d71-a1a8-c2df6160cdf5",
   "metadata": {
    "collapsed": true,
    "dc": {
     "key": "4"
    },
    "jupyter": {
     "outputs_hidden": true
    }
   },
   "outputs": [],
   "source": [
    "#Remove '+' and ',' characters from the 'Installs' column and convert to integer\n",
    "apps['Installs'] = apps['Installs'].str.replace('[+,]', '', regex=True).astype(int)"
   ]
  },
  {
   "cell_type": "code",
   "execution_count": 7,
   "id": "168f433e-8521-46c6-9ad9-e075bcba3a07",
   "metadata": {
    "dc": {
     "key": "4"
    },
    "outputsMetadata": {
     "0": {
      "height": 271,
      "type": "stream"
     }
    }
   },
   "outputs": [
    {
     "name": "stdout",
     "output_type": "stream",
     "text": [
      "                                                 App        Category  Rating  \\\n",
      "0     Photo Editor & Candy Camera & Grid & ScrapBook  ART_AND_DESIGN     4.1   \n",
      "1                                Coloring book moana  ART_AND_DESIGN     3.9   \n",
      "2  U Launcher Lite – FREE Live Cool Themes, Hide ...  ART_AND_DESIGN     4.7   \n",
      "3                              Sketch - Draw & Paint  ART_AND_DESIGN     4.5   \n",
      "4              Pixel Draw - Number Art Coloring Book  ART_AND_DESIGN     4.3   \n",
      "\n",
      "   Reviews  Size  Installs  Type  Price      Last Updated  \n",
      "0      159  19.0     10000  Free    0.0   January 7, 2018  \n",
      "1      967  14.0    500000  Free    0.0  January 15, 2018  \n",
      "2    87510   8.7   5000000  Free    0.0    August 1, 2018  \n",
      "3   215644  25.0  50000000  Free    0.0      June 8, 2018  \n",
      "4      967   2.8    100000  Free    0.0     June 20, 2018  \n"
     ]
    }
   ],
   "source": [
    "print(apps.head())"
   ]
  },
  {
   "cell_type": "code",
   "execution_count": 8,
   "id": "7e812db3-a23a-4ceb-89e6-be0fccfce663",
   "metadata": {
    "collapsed": true,
    "dc": {
     "key": "4"
    },
    "jupyter": {
     "outputs_hidden": true
    }
   },
   "outputs": [],
   "source": [
    "# Group by 'Category' and calculate the count, mean of 'Price', and mean of 'Rating'\n",
    "app_category_info = apps.groupby('Category').agg({\n",
    "    'App': 'count',\n",
    "    'Price': 'mean',\n",
    "    'Rating': 'mean'\n",
    "}).reset_index()\n",
    "\n",
    "# Rename the columns\n",
    "app_category_info.columns = ['Category', 'Number of apps', 'Average price', 'Average rating']"
   ]
  },
  {
   "cell_type": "code",
   "execution_count": 9,
   "id": "76ae3aed-f0e2-439e-bc40-580fb0c93395",
   "metadata": {
    "dc": {
     "key": "4"
    },
    "outputsMetadata": {
     "0": {
      "height": 134,
      "type": "stream"
     }
    }
   },
   "outputs": [
    {
     "name": "stdout",
     "output_type": "stream",
     "text": [
      "              Category  Number of apps  Average price  Average rating\n",
      "0       ART_AND_DESIGN              64       0.093281        4.357377\n",
      "1    AUTO_AND_VEHICLES              85       0.158471        4.190411\n",
      "2               BEAUTY              53       0.000000        4.278571\n",
      "3  BOOKS_AND_REFERENCE             222       0.539505        4.344970\n",
      "4             BUSINESS             420       0.417357        4.098479\n"
     ]
    }
   ],
   "source": [
    "print(app_category_info.head())"
   ]
  },
  {
   "cell_type": "code",
   "execution_count": 10,
   "id": "3a71ed89-b49c-4824-8d97-09a6673187d3",
   "metadata": {
    "collapsed": true,
    "dc": {
     "key": "4"
    },
    "jupyter": {
     "outputs_hidden": true
    }
   },
   "outputs": [],
   "source": [
    "#Read csv_file\n",
    "finance = pd.read_csv('datasets/user_reviews.csv')"
   ]
  },
  {
   "cell_type": "code",
   "execution_count": 11,
   "id": "a57a5d44-d7d4-448b-aaf1-52bdd61aace3",
   "metadata": {
    "dc": {
     "key": "4"
    },
    "outputsMetadata": {
     "0": {
      "height": 271,
      "type": "stream"
     }
    }
   },
   "outputs": [
    {
     "name": "stdout",
     "output_type": "stream",
     "text": [
      "                     App                                             Review  \\\n",
      "0  10 Best Foods for You  I like eat delicious food. That's I'm cooking ...   \n",
      "1  10 Best Foods for You    This help eating healthy exercise regular basis   \n",
      "2  10 Best Foods for You                                                NaN   \n",
      "3  10 Best Foods for You         Works great especially going grocery store   \n",
      "4  10 Best Foods for You                                       Best idea us   \n",
      "\n",
      "  Sentiment Category  Sentiment Score  \n",
      "0           Positive             1.00  \n",
      "1           Positive             0.25  \n",
      "2                NaN              NaN  \n",
      "3           Positive             0.40  \n",
      "4           Positive             1.00  \n"
     ]
    }
   ],
   "source": [
    "print(finance.head())"
   ]
  },
  {
   "cell_type": "code",
   "execution_count": 12,
   "id": "87a35d71-9cac-4e15-bf34-49e7eddacd2b",
   "metadata": {
    "collapsed": true,
    "dc": {
     "key": "4"
    },
    "jupyter": {
     "outputs_hidden": true
    }
   },
   "outputs": [],
   "source": [
    "apps_finance = merged_dataset = pd.merge(apps, finance, on='App', how='inner')"
   ]
  },
  {
   "cell_type": "code",
   "execution_count": 13,
   "id": "0d9302f0-f71b-4c36-a768-156bd4003dd2",
   "metadata": {
    "dc": {
     "key": "4"
    },
    "outputsMetadata": {
     "0": {
      "height": 407,
      "type": "stream"
     }
    }
   },
   "outputs": [
    {
     "name": "stdout",
     "output_type": "stream",
     "text": [
      "                   App        Category  Rating  Reviews  Size  Installs  Type  \\\n",
      "0  Coloring book moana  ART_AND_DESIGN     3.9      967  14.0    500000  Free   \n",
      "1  Coloring book moana  ART_AND_DESIGN     3.9      967  14.0    500000  Free   \n",
      "2  Coloring book moana  ART_AND_DESIGN     3.9      967  14.0    500000  Free   \n",
      "3  Coloring book moana  ART_AND_DESIGN     3.9      967  14.0    500000  Free   \n",
      "4  Coloring book moana  ART_AND_DESIGN     3.9      967  14.0    500000  Free   \n",
      "\n",
      "   Price      Last Updated                                             Review  \\\n",
      "0    0.0  January 15, 2018  A kid's excessive ads. The types ads allowed a...   \n",
      "1    0.0  January 15, 2018                                         It bad >:(   \n",
      "2    0.0  January 15, 2018                                               like   \n",
      "3    0.0  January 15, 2018                                                NaN   \n",
      "4    0.0  January 15, 2018                           I love colors inspyering   \n",
      "\n",
      "  Sentiment Category  Sentiment Score  \n",
      "0           Negative           -0.250  \n",
      "1           Negative           -0.725  \n",
      "2            Neutral            0.000  \n",
      "3                NaN              NaN  \n",
      "4           Positive            0.500  \n"
     ]
    }
   ],
   "source": [
    "print(apps_finance.head())"
   ]
  },
  {
   "cell_type": "code",
   "execution_count": 14,
   "id": "6cc8af43-db42-48e1-b40a-00e752c502b4",
   "metadata": {
    "collapsed": true,
    "dc": {
     "key": "4"
    },
    "jupyter": {
     "outputs_hidden": true
    }
   },
   "outputs": [],
   "source": [
    "new_apps_finance = apps_finance[(apps_finance['Type'] == 'Free') & (apps_finance['Category'] == 'FINANCE')]"
   ]
  },
  {
   "cell_type": "code",
   "execution_count": 15,
   "id": "a57c9e0e-3a45-4aec-bcaf-ee2ac7e8c0bf",
   "metadata": {
    "collapsed": true,
    "dc": {
     "key": "4"
    },
    "jupyter": {
     "outputs_hidden": true
    }
   },
   "outputs": [],
   "source": [
    "# Group by 'App' and calculate the average Sentiment Score\n",
    "average_sentiment_scores = new_apps_finance.groupby('App')['Sentiment Score'].mean()"
   ]
  },
  {
   "cell_type": "code",
   "execution_count": 16,
   "id": "1c375e2a-0503-42b7-b542-f1868066ca66",
   "metadata": {
    "dc": {
     "key": "4"
    },
    "outputsMetadata": {
     "0": {
      "height": 154,
      "type": "stream"
     }
    }
   },
   "outputs": [
    {
     "name": "stdout",
     "output_type": "stream",
     "text": [
      "App\n",
      "A+ Mobile                         0.329592\n",
      "ACE Elite                         0.252171\n",
      "Acorns - Invest Spare Change      0.046667\n",
      "Amex Mobile                       0.175666\n",
      "Associated Credit Union Mobile    0.388093\n",
      "Name: Sentiment Score, dtype: float64\n"
     ]
    }
   ],
   "source": [
    "print(average_sentiment_scores.head())"
   ]
  },
  {
   "cell_type": "code",
   "execution_count": 17,
   "id": "426513bc-2c4d-4528-9917-f3e2ff271552",
   "metadata": {
    "collapsed": true,
    "dc": {
     "key": "4"
    },
    "jupyter": {
     "outputs_hidden": true
    }
   },
   "outputs": [],
   "source": [
    "# Sort by average Sentiment Score in descending order and select the top 10 apps\n",
    "top_10_user_feedback = average_sentiment_scores.reset_index().nlargest(10, 'Sentiment Score')"
   ]
  },
  {
   "cell_type": "code",
   "execution_count": 18,
   "id": "738f3677-3472-4fb0-9c94-d453dc34993d",
   "metadata": {
    "dc": {
     "key": "4"
    },
    "outputsMetadata": {
     "0": {
      "height": 232,
      "type": "stream"
     }
    }
   },
   "outputs": [
    {
     "name": "stdout",
     "output_type": "stream",
     "text": [
      "                                           App  Sentiment Score\n",
      "6                                   BBVA Spain         0.515086\n",
      "4               Associated Credit Union Mobile         0.388093\n",
      "9                          BankMobile Vibe App         0.353455\n",
      "0                                    A+ Mobile         0.329592\n",
      "29   Current debit card and app made for teens         0.327258\n",
      "7                               BZWBK24 mobile         0.326883\n",
      "34  Even - organize your money, get paid early         0.283929\n",
      "26                                Credit Karma         0.270052\n",
      "39                Fortune City - A Finance App         0.266966\n",
      "15                                      Branch         0.264230\n"
     ]
    }
   ],
   "source": [
    "print(top_10_user_feedback)"
   ]
  },
  {
   "cell_type": "code",
   "execution_count": 19,
   "id": "c9e2df41-f3ad-4e17-8f5e-83b666fe0df1",
   "metadata": {
    "collapsed": true,
    "dc": {
     "key": "4"
    },
    "jupyter": {
     "outputs_hidden": true
    }
   },
   "outputs": [],
   "source": [
    "top_10_user_feedback_test = average_sentiment_scores.reset_index().sort_values(by='Sentiment Score', ascending=False).head(10)"
   ]
  },
  {
   "cell_type": "code",
   "execution_count": 20,
   "id": "abe73b29-c9de-4a97-a0f4-a8fb2de93997",
   "metadata": {
    "dc": {
     "key": "4"
    },
    "outputsMetadata": {
     "0": {
      "height": 232,
      "type": "stream"
     }
    },
    "scrolled": true
   },
   "outputs": [
    {
     "name": "stdout",
     "output_type": "stream",
     "text": [
      "                                           App  Sentiment Score\n",
      "6                                   BBVA Spain         0.515086\n",
      "4               Associated Credit Union Mobile         0.388093\n",
      "9                          BankMobile Vibe App         0.353455\n",
      "0                                    A+ Mobile         0.329592\n",
      "29   Current debit card and app made for teens         0.327258\n",
      "7                               BZWBK24 mobile         0.326883\n",
      "34  Even - organize your money, get paid early         0.283929\n",
      "26                                Credit Karma         0.270052\n",
      "39                Fortune City - A Finance App         0.266966\n",
      "15                                      Branch         0.264230\n"
     ]
    }
   ],
   "source": [
    "print(top_10_user_feedback_test)"
   ]
  }
 ],
 "metadata": {
  "editor": "DataCamp Workspace",
  "kernelspec": {
   "display_name": "Python 3 (ipykernel)",
   "language": "python",
   "name": "python3"
  },
  "language_info": {
   "codemirror_mode": {
    "name": "ipython",
    "version": 3
   },
   "file_extension": ".py",
   "mimetype": "text/x-python",
   "name": "python",
   "nbconvert_exporter": "python",
   "pygments_lexer": "ipython3",
   "version": "3.11.5"
  }
 },
 "nbformat": 4,
 "nbformat_minor": 5
}
